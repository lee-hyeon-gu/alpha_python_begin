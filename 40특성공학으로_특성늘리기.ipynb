{
  "nbformat": 4,
  "nbformat_minor": 0,
  "metadata": {
    "colab": {
      "provenance": [],
      "authorship_tag": "ABX9TyNW3ApVhA9AxdKx+yuX/Xy1",
      "include_colab_link": true
    },
    "kernelspec": {
      "name": "python3",
      "display_name": "Python 3"
    },
    "language_info": {
      "name": "python"
    }
  },
  "cells": [
    {
      "cell_type": "markdown",
      "metadata": {
        "id": "view-in-github",
        "colab_type": "text"
      },
      "source": [
        "<a href=\"https://colab.research.google.com/github/lee-hyeon-gu/alpha_python_begin/blob/main/40%ED%8A%B9%EC%84%B1%EA%B3%B5%ED%95%99%EC%9C%BC%EB%A1%9C_%ED%8A%B9%EC%84%B1%EB%8A%98%EB%A6%AC%EA%B8%B0.ipynb\" target=\"_parent\"><img src=\"https://colab.research.google.com/assets/colab-badge.svg\" alt=\"Open In Colab\"/></a>"
      ]
    },
    {
      "cell_type": "code",
      "execution_count": 21,
      "metadata": {
        "id": "Uj3rUhnK23it"
      },
      "outputs": [],
      "source": [
        "import numpy as np\n",
        "import pandas as pd\n",
        "\n",
        "perch=pd.read_csv('perch.csv')\n",
        "\n",
        "data=perch['length'].to_numpy()\n",
        "target=perch['weight'].to_numpy()\n",
        "\n",
        "data2=data.reshape(-1,1)\n",
        "\n"
      ]
    },
    {
      "cell_type": "code",
      "source": [
        "from sklearn.preprocessing import PolynomialFeatures\n",
        "\n",
        "poly = PolynomialFeatures(include_bias=False,degree=5)#5제곱까지 허용\n",
        "perch_poly=poly.fit_transform(perch2)\n",
        "\n",
        "from sklearn.model_selection import train_test_split\n",
        "train_input, test_input, train_target,test_target=train_test_split(perch_poly,target)\n",
        "\n",
        "from sklearn.preprocessing import StandardScaler\n",
        "\n",
        "ss=StandardScaler()\n",
        "train_scaled=ss.fit_transform(train_input)#train_input의 표준편차,평균을 얻고 변환해서 trainscarled에 삽입\n",
        "test_scaled = ss.transform(test_input)#위에서 가져옴\n",
        "\n",
        "perch2.shape"
      ],
      "metadata": {
        "colab": {
          "base_uri": "https://localhost:8080/"
        },
        "id": "UixKkJhQ-jqT",
        "outputId": "7a61ba55-67a3-4d1a-8f50-5498769458fe"
      },
      "execution_count": 30,
      "outputs": [
        {
          "output_type": "execute_result",
          "data": {
            "text/plain": [
              "(56, 3)"
            ]
          },
          "metadata": {},
          "execution_count": 30
        }
      ]
    },
    {
      "cell_type": "code",
      "source": [
        "from sklearn.linear_model import LinearRegression\n",
        "lr=LinearRegression()\n",
        "lr.fit(train_scaled, train_target)\n"
      ],
      "metadata": {
        "id": "OyVfAcKwAYYW"
      },
      "execution_count": null,
      "outputs": []
    }
  ]
}