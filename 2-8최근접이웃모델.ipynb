{
  "nbformat": 4,
  "nbformat_minor": 0,
  "metadata": {
    "colab": {
      "provenance": [],
      "authorship_tag": "ABX9TyMji0BPFvP+aGqVVqXMjC47",
      "include_colab_link": true
    },
    "kernelspec": {
      "name": "python3",
      "display_name": "Python 3"
    },
    "language_info": {
      "name": "python"
    }
  },
  "cells": [
    {
      "cell_type": "markdown",
      "metadata": {
        "id": "view-in-github",
        "colab_type": "text"
      },
      "source": [
        "<a href=\"https://colab.research.google.com/github/lee-hyeon-gu/alpha_python_begin/blob/main/2-8%EC%B5%9C%EA%B7%BC%EC%A0%91%EC%9D%B4%EC%9B%83%EB%AA%A8%EB%8D%B8.ipynb\" target=\"_parent\"><img src=\"https://colab.research.google.com/assets/colab-badge.svg\" alt=\"Open In Colab\"/></a>"
      ]
    },
    {
      "cell_type": "code",
      "execution_count": 5,
      "metadata": {
        "id": "iGj-JT05hmDG"
      },
      "outputs": [],
      "source": [
        "import pandas as pd\n",
        "import matplotlib.pyplot as plt\n",
        "perch=pd.read_csv(\"perch.csv\")"
      ]
    },
    {
      "cell_type": "code",
      "source": [
        "plt.scatter(perch['length'],perch['weight'])"
      ],
      "metadata": {
        "id": "kdHKQYHcjRKj"
      },
      "execution_count": null,
      "outputs": []
    },
    {
      "cell_type": "code",
      "source": [
        "data=perch['length'].to_numpy() # 현재 1차원행렬 -> 2차원행렬 변환필요\n",
        "target=perch['weight'].to_numpy()"
      ],
      "metadata": {
        "id": "H1eTQNWwjiZj"
      },
      "execution_count": null,
      "outputs": []
    },
    {
      "cell_type": "code",
      "source": [
        "data2=data.reshape(-1,1)#-1 : 자동행,1열"
      ],
      "metadata": {
        "id": "afOnav9zj0qV"
      },
      "execution_count": 12,
      "outputs": []
    },
    {
      "cell_type": "code",
      "source": [
        "from sklearn.model_selection import train_test_split\n",
        "\n",
        "train_input,test_input,train_target,test_target=train_test_split(data2,target)"
      ],
      "metadata": {
        "id": "WuMBOrpPkGM3"
      },
      "execution_count": 14,
      "outputs": []
    },
    {
      "cell_type": "code",
      "source": [
        "from sklearn.neighbors import KNeighborsRegressor\n",
        "\n",
        "for n in range(1,43):\n",
        "    knn=KNeighborsRegressor(n_neighbors=n)\n",
        "    knn.fit(train_input,train_target)\n",
        "    score=knn.score(test_input,test_target)\n",
        "    print('이웃수{} / 정밀도 :{}'.format(n,score))"
      ],
      "metadata": {
        "colab": {
          "base_uri": "https://localhost:8080/",
          "height": 0
        },
        "id": "tgfajNV2kSUV",
        "outputId": "47e7ce36-9133-472a-82e8-93b6d782db96"
      },
      "execution_count": 42,
      "outputs": [
        {
          "output_type": "stream",
          "name": "stdout",
          "text": [
            "이웃수1 / 정밀도 :0.9816808626785691\n",
            "이웃수2 / 정밀도 :0.9917780511434249\n",
            "이웃수3 / 정밀도 :0.9925386905026069\n",
            "이웃수4 / 정밀도 :0.992299855502887\n",
            "이웃수5 / 정밀도 :0.9963166360210138\n",
            "이웃수6 / 정밀도 :0.9971968313190772\n",
            "이웃수7 / 정밀도 :0.9937179479903289\n",
            "이웃수8 / 정밀도 :0.9910354097222687\n",
            "이웃수9 / 정밀도 :0.99421448562739\n",
            "이웃수10 / 정밀도 :0.9901734836334937\n",
            "이웃수11 / 정밀도 :0.9860184354700338\n",
            "이웃수12 / 정밀도 :0.9851025757534502\n",
            "이웃수13 / 정밀도 :0.9832034327299116\n",
            "이웃수14 / 정밀도 :0.976985524427163\n",
            "이웃수15 / 정밀도 :0.9676333569776634\n",
            "이웃수16 / 정밀도 :0.9531076054459767\n",
            "이웃수17 / 정밀도 :0.9383729178912905\n",
            "이웃수18 / 정밀도 :0.92038130072442\n",
            "이웃수19 / 정밀도 :0.9004601304295485\n",
            "이웃수20 / 정밀도 :0.8817543128066553\n",
            "이웃수21 / 정밀도 :0.8592638145246263\n",
            "이웃수22 / 정밀도 :0.8338236640634468\n",
            "이웃수23 / 정밀도 :0.8110101030880085\n",
            "이웃수24 / 정밀도 :0.7890378343689995\n",
            "이웃수25 / 정밀도 :0.7629550050428985\n",
            "이웃수26 / 정밀도 :0.7371984945219696\n",
            "이웃수27 / 정밀도 :0.7091862423732014\n",
            "이웃수28 / 정밀도 :0.681836222417836\n",
            "이웃수29 / 정밀도 :0.6476770027170619\n",
            "이웃수30 / 정밀도 :0.6114608200402998\n",
            "이웃수31 / 정밀도 :0.5732073888088629\n",
            "이웃수32 / 정밀도 :0.5339485702748632\n",
            "이웃수33 / 정밀도 :0.49504050909065767\n",
            "이웃수34 / 정밀도 :0.4471676410699721\n",
            "이웃수35 / 정밀도 :0.39980542376691885\n",
            "이웃수36 / 정밀도 :0.3590576557943187\n",
            "이웃수37 / 정밀도 :0.3050441564885965\n",
            "이웃수38 / 정밀도 :0.25662652103517636\n",
            "이웃수39 / 정밀도 :0.18728972136349087\n",
            "이웃수40 / 정밀도 :0.11903695385272095\n",
            "이웃수41 / 정밀도 :0.05287900340963492\n",
            "이웃수42 / 정밀도 :-0.007612099705481379\n"
          ]
        }
      ]
    },
    {
      "cell_type": "code",
      "source": [
        "knn=KNeighborsRegressor(n_neighbors=6)\n",
        "knn.fit(train_input,train_target)"
      ],
      "metadata": {
        "id": "PV49LCgQl35S"
      },
      "execution_count": null,
      "outputs": []
    },
    {
      "cell_type": "code",
      "source": [
        "test_target"
      ],
      "metadata": {
        "id": "wbLWCH6xl-cm"
      },
      "execution_count": null,
      "outputs": []
    },
    {
      "cell_type": "code",
      "source": [
        "knn.predict(test_input)"
      ],
      "metadata": {
        "id": "GDFb5VvZl_x_"
      },
      "execution_count": null,
      "outputs": []
    },
    {
      "cell_type": "code",
      "source": [
        "import numpy as np\n",
        "np.mean(abs(test_target-knn.predict(test_input)))"
      ],
      "metadata": {
        "colab": {
          "base_uri": "https://localhost:8080/",
          "height": 0
        },
        "id": "vJR_QM3PmNXj",
        "outputId": "c4707f76-8d46-43a3-e8d6-9acd7ba4b562"
      },
      "execution_count": 40,
      "outputs": [
        {
          "output_type": "execute_result",
          "data": {
            "text/plain": [
              "14.416666666666668"
            ]
          },
          "metadata": {},
          "execution_count": 40
        }
      ]
    }
  ]
}